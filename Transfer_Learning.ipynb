{
  "cells": [
    {
      "cell_type": "code",
      "execution_count": null,
      "metadata": {
        "id": "3iJfzJzBcvNS"
      },
      "outputs": [],
      "source": [
        "!mkdir -p  ~/.kaggle\n",
        "!cp kaggle.json  ~/.kaggle/"
      ]
    },
    {
      "cell_type": "code",
      "execution_count": null,
      "metadata": {
        "colab": {
          "base_uri": "https://localhost:8080/"
        },
        "id": "jE0cNnrnmTpl",
        "outputId": "79d56769-1661-4f9b-9649-44f197f7b55e"
      },
      "outputs": [
        {
          "name": "stdout",
          "output_type": "stream",
          "text": [
            "Warning: Your Kaggle API key is readable by other users on this system! To fix this, you can run 'chmod 600 /root/.kaggle/kaggle.json'\n",
            "Dataset URL: https://www.kaggle.com/datasets/salader/dogs-vs-cats\n",
            "License(s): unknown\n",
            "Downloading dogs-vs-cats.zip to /content\n",
            " 98% 1.05G/1.06G [00:04<00:00, 208MB/s]\n",
            "100% 1.06G/1.06G [00:04<00:00, 257MB/s]\n"
          ]
        }
      ],
      "source": [
        "!kaggle datasets download -d salader/dogs-vs-cats"
      ]
    },
    {
      "cell_type": "code",
      "execution_count": null,
      "metadata": {
        "id": "64X6dke8nolb"
      },
      "outputs": [],
      "source": [
        "import zipfile\n",
        "zip_ref = zipfile.ZipFile('/content/dogs-vs-cats.zip')\n",
        "zip_ref.extractall('/content')\n",
        "zip_ref.close()"
      ]
    },
    {
      "cell_type": "code",
      "execution_count": null,
      "metadata": {
        "id": "rOvDe7ZjpIy9"
      },
      "outputs": [],
      "source": [
        "import tensorflow as tf\n",
        "from tensorflow import keras\n",
        "from tensorflow.keras import layers\n",
        "from tensorflow.keras.layers import Dense,Dropout,Flatten,MaxPooling2D,Conv2D\n",
        "from keras.applications.vgg16 import VGG16\n",
        "from keras.preprocessing.image import img_to_array,load_img,array_to_img,save_img\n",
        "from keras.models import Sequential"
      ]
    },
    {
      "cell_type": "code",
      "execution_count": null,
      "metadata": {
        "colab": {
          "base_uri": "https://localhost:8080/"
        },
        "id": "ClrbEKjGoA23",
        "outputId": "ecff65a0-5e28-4f62-837d-4fbd816cf7a8"
      },
      "outputs": [
        {
          "name": "stdout",
          "output_type": "stream",
          "text": [
            "Found 20000 files belonging to 2 classes.\n"
          ]
        }
      ],
      "source": [
        "#generators\n",
        "train_ds = keras.utils.image_dataset_from_directory(\n",
        "    directory ='/content/train',\n",
        "    labels = 'inferred',\n",
        "    label_mode = 'int',\n",
        "    batch_size = 32,\n",
        "    image_size = (150,150)\n",
        ")\n"
      ]
    },
    {
      "cell_type": "code",
      "execution_count": null,
      "metadata": {
        "colab": {
          "base_uri": "https://localhost:8080/"
        },
        "id": "nl0ATEZTpHpD",
        "outputId": "b0cedee8-73f9-43dc-adf9-a61ffc4147a0"
      },
      "outputs": [
        {
          "name": "stdout",
          "output_type": "stream",
          "text": [
            "Found 5000 files belonging to 2 classes.\n"
          ]
        }
      ],
      "source": [
        "test_ds = keras.utils.image_dataset_from_directory(\n",
        "    directory = '/content/test',\n",
        "    labels = 'inferred',\n",
        "    label_mode = 'int',\n",
        "    batch_size = 32,\n",
        "    image_size = (150,150)\n",
        "\n",
        ")"
      ]
    },
    {
      "cell_type": "code",
      "execution_count": null,
      "metadata": {
        "colab": {
          "base_uri": "https://localhost:8080/"
        },
        "id": "qpqSPUHA9rpW",
        "outputId": "84ce0a58-8b8c-483a-b9ab-536ff677cbc2"
      },
      "outputs": [
        {
          "name": "stdout",
          "output_type": "stream",
          "text": [
            "Downloading data from https://storage.googleapis.com/tensorflow/keras-applications/vgg16/vgg16_weights_tf_dim_ordering_tf_kernels_notop.h5\n",
            "58889256/58889256 [==============================] - 0s 0us/step\n"
          ]
        }
      ],
      "source": [
        "conv_base = VGG16(\n",
        "    weights = 'imagenet',\n",
        "    input_shape  = (150,150,3),\n",
        "    include_top = False\n",
        "\n",
        ")"
      ]
    },
    {
      "cell_type": "code",
      "execution_count": null,
      "metadata": {
        "id": "4Xl7h1QcAbLk"
      },
      "outputs": [],
      "source": [
        "#normalization\n",
        "\n",
        "def process(image, label):\n",
        "  image = tf.cast(image/255., tf.float32)\n",
        "  return image, label\n",
        "\n",
        "\n",
        "train_ds = train_ds.map(process)\n",
        "test_ds = test_ds.map(process)"
      ]
    },
    {
      "cell_type": "code",
      "execution_count": null,
      "metadata": {
        "id": "GKtBl8k9-g2Y"
      },
      "outputs": [],
      "source": [
        "model = Sequential()\n",
        "\n",
        "model.add(conv_base)\n",
        "model.add(Flatten())\n",
        "model.add(Dense(256,activation = 'relu'))\n",
        "model.add(Dense(1, activation = 'sigmoid'))"
      ]
    },
    {
      "cell_type": "code",
      "execution_count": null,
      "metadata": {
        "colab": {
          "base_uri": "https://localhost:8080/"
        },
        "id": "dTVgwL_w_O4b",
        "outputId": "067081cf-8dd9-475d-a010-48bd5ff8b21b"
      },
      "outputs": [
        {
          "name": "stdout",
          "output_type": "stream",
          "text": [
            "Model: \"sequential_2\"\n",
            "_________________________________________________________________\n",
            " Layer (type)                Output Shape              Param #   \n",
            "=================================================================\n",
            " vgg16 (Functional)          (None, 4, 4, 512)         14714688  \n",
            "                                                                 \n",
            " flatten (Flatten)           (None, 8192)              0         \n",
            "                                                                 \n",
            " dense (Dense)               (None, 256)               2097408   \n",
            "                                                                 \n",
            " dense_1 (Dense)             (None, 1)                 257       \n",
            "                                                                 \n",
            "=================================================================\n",
            "Total params: 16812353 (64.13 MB)\n",
            "Trainable params: 16812353 (64.13 MB)\n",
            "Non-trainable params: 0 (0.00 Byte)\n",
            "_________________________________________________________________\n"
          ]
        }
      ],
      "source": [
        "model.summary()"
      ]
    },
    {
      "cell_type": "code",
      "execution_count": null,
      "metadata": {
        "id": "QOcAikKD_0MP"
      },
      "outputs": [],
      "source": [
        "conv_base.trainable = False\n"
      ]
    },
    {
      "cell_type": "code",
      "execution_count": null,
      "metadata": {
        "id": "ALzpl0gqABnh"
      },
      "outputs": [],
      "source": [
        "model.compile(optimizer = 'adam', loss = 'binary_crossentropy', metrics = ['accuracy'])"
      ]
    },
    {
      "cell_type": "code",
      "execution_count": null,
      "metadata": {
        "colab": {
          "background_save": true,
          "base_uri": "https://localhost:8080/"
        },
        "id": "no7H1kLnBL2j",
        "outputId": "68afbc81-1d23-4d33-d296-5b98cd45a5e1"
      },
      "outputs": [
        {
          "name": "stdout",
          "output_type": "stream",
          "text": [
            "Epoch 1/10\n",
            "625/625 [==============================] - 69s 97ms/step - loss: 0.2781 - accuracy: 0.8871 - val_loss: 0.2133 - val_accuracy: 0.9134\n",
            "Epoch 2/10\n",
            "625/625 [==============================] - 58s 92ms/step - loss: 0.1898 - accuracy: 0.9208 - val_loss: 0.2178 - val_accuracy: 0.9068\n",
            "Epoch 3/10\n",
            "625/625 [==============================] - 67s 106ms/step - loss: 0.1654 - accuracy: 0.9308 - val_loss: 0.2852 - val_accuracy: 0.8888\n",
            "Epoch 4/10\n",
            "625/625 [==============================] - 59s 93ms/step - loss: 0.1380 - accuracy: 0.9432 - val_loss: 0.2612 - val_accuracy: 0.9010\n",
            "Epoch 5/10\n",
            "625/625 [==============================] - 57s 91ms/step - loss: 0.1234 - accuracy: 0.9495 - val_loss: 0.2241 - val_accuracy: 0.9174\n",
            "Epoch 6/10\n",
            "625/625 [==============================] - 68s 108ms/step - loss: 0.0895 - accuracy: 0.9651 - val_loss: 0.3122 - val_accuracy: 0.8980\n",
            "Epoch 7/10\n",
            "625/625 [==============================] - 59s 94ms/step - loss: 0.0711 - accuracy: 0.9740 - val_loss: 0.2874 - val_accuracy: 0.9100\n",
            "Epoch 8/10\n",
            "625/625 [==============================] - 57s 91ms/step - loss: 0.0666 - accuracy: 0.9744 - val_loss: 0.3140 - val_accuracy: 0.9076\n",
            "Epoch 9/10\n",
            "625/625 [==============================] - 58s 92ms/step - loss: 0.0484 - accuracy: 0.9817 - val_loss: 0.3429 - val_accuracy: 0.9092\n",
            "Epoch 10/10\n",
            "625/625 [==============================] - 58s 92ms/step - loss: 0.0340 - accuracy: 0.9891 - val_loss: 0.3437 - val_accuracy: 0.9086\n"
          ]
        },
        {
          "data": {
            "text/plain": [
              "<keras.src.callbacks.History at 0x78bf345300a0>"
            ]
          },
          "execution_count": 27,
          "metadata": {},
          "output_type": "execute_result"
        }
      ],
      "source": [
        "history = model.fit(train_ds, epochs = 10, batch_size = 32, validation_data=(test_ds))"
      ]
    },
    {
      "cell_type": "code",
      "execution_count": null,
      "metadata": {
        "id": "dK8PH17aBVox"
      },
      "outputs": [],
      "source": []
    },
    {
      "cell_type": "markdown",
      "metadata": {
        "id": "jkOHiCinCBEw"
      },
      "source": []
    }
  ],
  "metadata": {
    "accelerator": "GPU",
    "colab": {
      "gpuType": "T4",
      "provenance": []
    },
    "kernelspec": {
      "display_name": "Python 3",
      "name": "python3"
    },
    "language_info": {
      "name": "python"
    }
  },
  "nbformat": 4,
  "nbformat_minor": 0
}